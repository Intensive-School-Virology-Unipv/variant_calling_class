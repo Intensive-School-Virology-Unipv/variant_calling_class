{
 "cells": [
  {
   "cell_type": "markdown",
   "source": [
    "# Variant Calling on SARS-CoV-2 NGS Data\n",
    "\n",
    "This notebook summarises step by step a miminal workflow, to use raw NGS data, generate a list of detected variants in each sample, and assign a pangolin lineage to each one.\n",
    "\n",
    "## Initial set-up\n",
    "\n",
    "We begin by organising our working environment: first, let's create a new folder where we are going to save the data in our home directory."
   ],
   "metadata": {}
  },
  {
   "cell_type": "code",
   "execution_count": null,
   "source": [
    "cd ~\n",
    "mkdir -p variantlab\n",
    "cd variantlab "
   ],
   "outputs": [],
   "metadata": {}
  },
  {
   "cell_type": "markdown",
   "source": [
    "The genome reference file is already available in the DATA folder, but we will copy in our exercise folder and rename it for convenience, as it follows:"
   ],
   "metadata": {}
  },
  {
   "cell_type": "code",
   "execution_count": null,
   "source": [
    "cp /home/student/DATA/variant_calling_data/refs/refseq_NC_045512_covid19_wuhan.fasta covid_reference.fasta"
   ],
   "outputs": [],
   "metadata": {}
  },
  {
   "cell_type": "markdown",
   "source": [
    "As we discuss in class, the genome needs to be indexed in order to allow the mapping algorithm to work. We have therefore to create the indexes first.\n",
    "\n",
    "Since these are made by several different files, we want to keep our folders organised and we will create a specific folder to store them."
   ],
   "metadata": {}
  },
  {
   "cell_type": "code",
   "execution_count": null,
   "source": [
    "mkdir -p bowtie2"
   ],
   "outputs": [],
   "metadata": {}
  },
  {
   "cell_type": "markdown",
   "source": [
    "Now we can use bowtie, in order to build the indexes as follows:"
   ],
   "metadata": {}
  },
  {
   "cell_type": "code",
   "execution_count": null,
   "source": [
    "bowtie2-build \\\n",
    "--threads 2 \\\n",
    "covid_reference.fasta \\\n",
    "bowtie2/covid_reference"
   ],
   "outputs": [],
   "metadata": {}
  },
  {
   "cell_type": "markdown",
   "source": [
    "## Aligning the NGS reads to SARS-CoV-2 genome\n",
    "\n",
    "Now we are ready to run the alignment for each sample, i.e. each pair of forward and reverse reads.\n",
    "\n",
    "As usual, we want to keep things tidy and we are going to create a folder where we will store the alignment files."
   ],
   "metadata": {}
  },
  {
   "cell_type": "code",
   "execution_count": null,
   "source": [
    "cd ~/variantlab\n",
    "mkdir -p alignment\n",
    "cd alignment"
   ],
   "outputs": [],
   "metadata": {}
  },
  {
   "cell_type": "markdown",
   "source": [
    "Now we are ready to run the mapping software first on sample one, as follows:"
   ],
   "metadata": {}
  },
  {
   "cell_type": "code",
   "execution_count": null,
   "source": [
    "bowtie2 \\\n",
    "    -x ~/variantlab/bowtie2/covid_reference \\\n",
    "    -1 /home/student/DATA/variant_calling_data/fastq/sample1_R1.fastq.gz \\\n",
    "    -2 /home/student/DATA/variant_calling_data/fastq/sample1_R2.fastq.gz \\\n",
    "    --threads 2 \\\n",
    "    2> sample1_bowtie2.log \\\n",
    "    | samtools view -@ 2 -bhS -o sample1.bam -\n"
   ],
   "outputs": [],
   "metadata": {}
  },
  {
   "cell_type": "markdown",
   "source": [
    "Then on sample 2, as follows:"
   ],
   "metadata": {}
  },
  {
   "cell_type": "code",
   "execution_count": null,
   "source": [
    "bowtie2 \\\n",
    "    -x ~/variantlab/bowtie2/covid_reference \\\n",
    "    -1 /home/student/DATA/variant_calling_data/fastq/sample2_R1.fastq.gz \\\n",
    "    -2 /home/student/DATA/variant_calling_data/fastq/sample2_R2.fastq.gz \\\n",
    "    --threads 2 \\\n",
    "    2> sample1_bowtie2.log \\\n",
    "    | samtools view -@ 2 -bhS -o sample2.bam -"
   ],
   "outputs": [],
   "metadata": {}
  },
  {
   "cell_type": "markdown",
   "source": [
    "The BAM files we have just generated need to be indexed as well: as for the reference genome, an index will allow quick access and navigation through the data. \n",
    "In order to generate an index, we need first to sort the file.\n",
    "You will notice that the command also include the generation of an index at the end, which is written in a recently developed format."
   ],
   "metadata": {}
  },
  {
   "cell_type": "code",
   "execution_count": null,
   "source": [
    "samtools sort -@ 2 --write-index -o sample1_sorted.bam sample1.bam\n",
    "samtools sort -@ 2 --write-index -o sample2_sorted.bam sample2.bam"
   ],
   "outputs": [],
   "metadata": {}
  },
  {
   "cell_type": "markdown",
   "source": [
    "However, some of the downstream tools we are going to use still prefer a more traditional index file, which we will generate with the following code:"
   ],
   "metadata": {}
  },
  {
   "cell_type": "code",
   "execution_count": null,
   "source": [
    "samtools index sample1_sorted.bam\n",
    "samtools index sample2_sorted.bam"
   ],
   "outputs": [],
   "metadata": {}
  },
  {
   "cell_type": "markdown",
   "source": [
    "## Variant Calling\n",
    "\n",
    "As usual, we first create a folder where to store the variants and the associated files:"
   ],
   "metadata": {}
  },
  {
   "cell_type": "code",
   "execution_count": null,
   "source": [
    "cd ~/variantlab\n",
    "mkdir -p calls\n",
    "cd calls"
   ],
   "outputs": [],
   "metadata": {}
  },
  {
   "cell_type": "markdown",
   "source": [
    "We assign the file location of the two previously generated bam files to a bash variable for convenience:"
   ],
   "metadata": {}
  },
  {
   "cell_type": "code",
   "execution_count": null,
   "source": [
    "bam1=/home/student/variantlab/alignment/sample1_sorted.bam\n",
    "bam2=/home/student/variantlab/alignment/sample2_sorted.bam"
   ],
   "outputs": [],
   "metadata": {}
  },
  {
   "cell_type": "markdown",
   "source": [
    "And we are doing the same with the additional files we need:\n",
    "\n",
    "- a primer file: this is used to trim the data, removing regions where variants might be incorrectly called\n",
    "- an annotation file, i.e. a descrition of the SARS-CoV-2 genome which is used to understand where variants are \n",
    "- the reference genome file\n",
    "\n",
    "We assign these to variables as follows:"
   ],
   "metadata": {}
  },
  {
   "cell_type": "code",
   "execution_count": null,
   "source": [
    "primers=/home/student/DATA/variant_calling_data/refs/nCoV-2019.primer.bed\n",
    "gff=/home/student/DATA/variant_calling_data/refs/GCF_009858895.2_ASM985889v3_genomic.gff\n",
    "fasta=/home/student/variantlab/covid_reference.fasta"
   ],
   "outputs": [],
   "metadata": {}
  },
  {
   "cell_type": "markdown",
   "source": [
    "Now we are ready to trim the primers from both bam files:"
   ],
   "metadata": {}
  },
  {
   "cell_type": "code",
   "execution_count": null,
   "source": [
    "ivar trim \\\n",
    "  -i $bam1 \\\n",
    "  -b $primers \\\n",
    "  -e -p \"sample1_primer_trimmed\"\n",
    "\n",
    "\n",
    "ivar trim \\\n",
    "  -i $bam2 \\\n",
    "  -b $primers \\\n",
    "  -e -p \"sample2_primer_trimmed\""
   ],
   "outputs": [],
   "metadata": {}
  },
  {
   "cell_type": "markdown",
   "source": [
    "And like we did before, we need to sort and index the resulting trimmed bam files:"
   ],
   "metadata": {}
  },
  {
   "cell_type": "code",
   "execution_count": null,
   "source": [
    "samtools sort -@ 2 --write-index -o sample1_primer_sorted.bam sample1_primer_trimmed.bam\n",
    "samtools sort -@ 2 --write-index -o sample2_primer_sorted.bam sample2_primer_trimmed.bam"
   ],
   "outputs": [],
   "metadata": {}
  },
  {
   "cell_type": "markdown",
   "source": [
    "The files are now ready to be used for variant calling, first on the first sample:"
   ],
   "metadata": {}
  },
  {
   "cell_type": "code",
   "execution_count": null,
   "source": [
    "samtools mpileup \\\n",
    "  -aa -A -d 0 -B -Q 0 \\\n",
    "  --reference $fasta \\\n",
    "  sample1_primer_sorted.bam \\\n",
    "  | ivar variants -p sample1_variants \\\n",
    "  -t 0.01 \\\n",
    "  -m 5 \\\n",
    "  -r $fasta \\\n",
    "  -g $gff"
   ],
   "outputs": [],
   "metadata": {}
  },
  {
   "cell_type": "markdown",
   "source": [
    "Then on the second sample:"
   ],
   "metadata": {}
  },
  {
   "cell_type": "code",
   "execution_count": null,
   "source": [
    "samtools mpileup \\\n",
    "  -aa -A -d 0 -B -Q 0 \\\n",
    "  --reference $fasta \\\n",
    "  sample2_primer_sorted.bam \\\n",
    "  | ivar variants -p sample2_variants \\\n",
    "  -t 0.01 \\\n",
    "  -m 5 \\\n",
    "  -r $fasta \\\n",
    "  -g $gff"
   ],
   "outputs": [],
   "metadata": {}
  },
  {
   "cell_type": "markdown",
   "source": [
    "## Consensus Genome\n",
    "\n",
    "We first create a folder where to store the files we need for the consensus"
   ],
   "metadata": {}
  },
  {
   "cell_type": "code",
   "execution_count": null,
   "source": [
    "cd ~/variantlab\n",
    "mkdir -p consensus\n",
    "cd consensus"
   ],
   "outputs": [],
   "metadata": {}
  },
  {
   "cell_type": "markdown",
   "source": [
    "And we use ivar to create a consensus genome for the first sample:"
   ],
   "metadata": {}
  },
  {
   "cell_type": "code",
   "execution_count": null,
   "source": [
    "samtools mpileup -aa -A -d 0 -Q 0 \\\n",
    "  /home/student/variantlab/calls/sample1_primer_sorted.bam \\\n",
    "  | ivar consensus \\\n",
    "  -t 0.1 \\\n",
    "  -m 5 \\\n",
    "  -p sample1_consensus"
   ],
   "outputs": [],
   "metadata": {}
  },
  {
   "cell_type": "markdown",
   "source": [
    "then for the second sample"
   ],
   "metadata": {}
  },
  {
   "cell_type": "code",
   "execution_count": null,
   "source": [
    "samtools mpileup -aa -A -d 0 -Q 0 \\\n",
    "  /home/student/variantlab/calls/sample2_primer_sorted.bam \\\n",
    "  | ivar consensus \\\n",
    "  -t 0.1 \\\n",
    "  -m 5 \\\n",
    "  -p sample2_consensus"
   ],
   "outputs": [],
   "metadata": {}
  },
  {
   "cell_type": "markdown",
   "source": [
    "Now we have 2 fasta files representing the genomes of the 2 samples with the variants that we have discovered in them.\n",
    "\n",
    "## Lineage Assignment\n",
    "\n",
    "In order to classify them both at the same time, we can collate them in the same multi-fasta file, as follows:"
   ],
   "metadata": {}
  },
  {
   "cell_type": "code",
   "execution_count": null,
   "source": [
    "cd ~/variantlab/consensus\n",
    "\n",
    "cat sample1_consensus.fa sample2_consensus.fa >samples_consensus.fa"
   ],
   "outputs": [],
   "metadata": {}
  },
  {
   "cell_type": "markdown",
   "source": [
    "We need to create a temp folder, to allow the lineage assignment software to work properly"
   ],
   "metadata": {}
  },
  {
   "cell_type": "code",
   "execution_count": null,
   "source": [
    "mkdir -p tmp"
   ],
   "outputs": [],
   "metadata": {}
  },
  {
   "cell_type": "markdown",
   "source": [
    "And we can now use the Pangolin tool to run the classification algorithm"
   ],
   "metadata": {}
  },
  {
   "cell_type": "code",
   "execution_count": null,
   "source": [
    "pangolin -t 2 \\\n",
    "--tempdir ~/variantlab/consensus/tmp \\\n",
    "samples_consensus.fa"
   ],
   "outputs": [],
   "metadata": {}
  },
  {
   "cell_type": "markdown",
   "source": [
    "We now have a CSV file, reporting the lineage assigned to each sample. \n",
    "let's inspect the results.\n",
    "\n",
    "Then, for the last step we have to move to the RStudio environment."
   ],
   "metadata": {}
  }
 ],
 "metadata": {
  "kernelspec": {
   "display_name": "Bash",
   "language": "bash",
   "name": "bash"
  },
  "language_info": {
   "codemirror_mode": "shell",
   "file_extension": ".sh",
   "mimetype": "text/x-sh",
   "name": "bash"
  }
 },
 "nbformat": 4,
 "nbformat_minor": 5
}